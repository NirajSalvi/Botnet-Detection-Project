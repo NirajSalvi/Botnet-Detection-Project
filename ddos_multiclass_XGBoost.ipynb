{
  "nbformat": 4,
  "nbformat_minor": 0,
  "metadata": {
    "colab": {
      "provenance": [],
      "gpuType": "T4"
    },
    "kernelspec": {
      "name": "python3",
      "display_name": "Python 3"
    },
    "gpuClass": "standard"
  },
  "cells": [
    {
      "cell_type": "markdown",
      "source": [
        "## Drive and Dependecies\n"
      ],
      "metadata": {
        "id": "L_-MhI82qfKa"
      }
    },
    {
      "cell_type": "code",
      "metadata": {
        "outputId": "09d68671-16a5-45f8-af29-fc615ed7aa4f",
        "colab": {
          "base_uri": "https://localhost:8080/"
        },
        "id": "8zKjbPoT2kzt"
      },
      "source": [
        "from google.colab import drive\n",
        "drive.mount('/content/drive')"
      ],
      "execution_count": null,
      "outputs": [
        {
          "output_type": "stream",
          "name": "stdout",
          "text": [
            "Mounted at /content/drive\n"
          ]
        }
      ]
    },
    {
      "cell_type": "code",
      "source": [
        "cd /content/drive/MyDrive/cicddos2019/03-11"
      ],
      "metadata": {
        "colab": {
          "base_uri": "https://localhost:8080/"
        },
        "id": "DznA41f98yUf",
        "outputId": "d4a94cac-7dfd-4076-a962-dbd84244dab4"
      },
      "execution_count": null,
      "outputs": [
        {
          "output_type": "stream",
          "name": "stdout",
          "text": [
            "/content/drive/MyDrive/cicddos2019/03-11\n"
          ]
        }
      ]
    },
    {
      "cell_type": "code",
      "metadata": {
        "outputId": "190e80a7-c73d-4b48-cf31-f965a90874a4",
        "colab": {
          "base_uri": "https://localhost:8080/"
        },
        "id": "FhH0uSy82kzu"
      },
      "source": [
        "%ls"
      ],
      "execution_count": null,
      "outputs": [
        {
          "output_type": "stream",
          "name": "stdout",
          "text": [
            "\u001b[0m\u001b[01;34m7_classes\u001b[0m/                     clean_3_without_timestamp.csv    NetBIOS.csv\n",
            "binary_balanced_dataset.csv    complete_dataset.csv             Portmap.csv\n",
            "binary_dataset.csv             LDAP.csv                         Syn.csv\n",
            "clean_1.csv                    MSSQL.csv                        UDP.csv\n",
            "clean_2_wihtout_timestamp.csv  multiclass_balanced_dataset.csv  UDPLag.csv\n",
            "clean_2_with_timestamp.csv     multiclass_dataset.csv\n"
          ]
        }
      ]
    },
    {
      "cell_type": "code",
      "metadata": {
        "id": "sIIQH54Ar2ZI"
      },
      "source": [
        "import pandas as pd\n",
        "from google.colab import files\n",
        "pd.options.display.max_rows = 99999\n",
        "pd.set_option('max_colwidth', 400)\n",
        "#df=pd.read_csv('./clean_1.csv')"
      ],
      "execution_count": null,
      "outputs": []
    },
    {
      "cell_type": "markdown",
      "source": [
        "## Feature Engineering"
      ],
      "metadata": {
        "id": "4tX3CuwJNtBi"
      }
    },
    {
      "cell_type": "code",
      "metadata": {
        "id": "oS-BDuLOX_vC"
      },
      "source": [
        " #%tensorflow_version 2.x\n",
        "from sklearn.preprocessing import LabelEncoder\n",
        "from keras.models import Sequential\n",
        "from keras.layers import Dense, Dropout, Activation, Lambda, Flatten\n",
        "from keras.layers import Convolution1D, Dense, Dropout, MaxPooling1D, LSTM\n",
        "from sklearn.model_selection import train_test_split\n",
        "from sklearn.preprocessing import Normalizer\n",
        "from keras import callbacks\n",
        "from keras.callbacks import CSVLogger\n",
        "from keras.utils import to_categorical\n",
        "from keras.callbacks import ModelCheckpoint, EarlyStopping, ReduceLROnPlateau, CSVLogger\n",
        "import numpy as np\n",
        "np.random.seed(0)"
      ],
      "execution_count": null,
      "outputs": []
    },
    {
      "cell_type": "code",
      "metadata": {
        "id": "UhGqcdZLX_z7",
        "outputId": "95214dcf-cccd-4964-a2e9-2d92eae63c05",
        "colab": {
          "base_uri": "https://localhost:8080/"
        }
      },
      "source": [
        "#loading dataset\n",
        "import pandas as pd\n",
        "df = pd.read_csv(\"./multiclass_balanced_dataset.csv\")\n",
        "x=df.drop('Label',axis='columns')\n",
        "y=df.Label\n",
        "y = pd.DataFrame(y)\n",
        "\n",
        "#normalizing the data\n",
        "normalized_df=(x-x.mean())/x.std()\n",
        "normalized_df=normalized_df.drop(['Flow Bytes/s'], axis=1)\n",
        "normalized_df=normalized_df.drop([' Flow Packets/s'], axis=1)\n",
        "\n",
        "#y = pd.get_dummies(y,prefix=['Label'], drop_first=True)\n",
        "\n",
        "normalized_df.head()"
      ],
      "execution_count": null,
      "outputs": [
        {
          "output_type": "execute_result",
          "data": {
            "text/plain": [
              "   Unnamed: 0   Source IP   Source Port   Destination IP   Destination Port  \\\n",
              "0   -1.732050   -0.113675     -1.085338         0.291053          -1.324661   \n",
              "1   -1.732049   -0.113675     -1.085298         0.291053           1.170338   \n",
              "2   -1.732048   -0.113675     -1.094200         0.291053           0.526290   \n",
              "3   -1.732047   -0.113675     -1.085259         0.291053           1.195441   \n",
              "4   -1.732045   -0.113675     -1.085219         0.291053           0.525947   \n",
              "\n",
              "    Protocol  Total Length of Fwd Packets   Fwd Packet Length Max  \\\n",
              "0   0.532286                    -0.364214               -0.475718   \n",
              "1   0.532286                    -0.297183               -0.355788   \n",
              "2   0.532286                    -0.341870               -0.435742   \n",
              "3   0.532286                    -0.341870               -0.435742   \n",
              "4   0.532286                    -0.341870               -0.435742   \n",
              "\n",
              "    Fwd Packet Length Min   Fwd Packet Length Mean  ...   URG Flag Count  \\\n",
              "0               -0.429556                -0.444479  ...        -0.250551   \n",
              "1               -0.307654                -0.321843  ...        -0.250551   \n",
              "2               -0.388922                -0.403601  ...        -0.250551   \n",
              "3               -0.388922                -0.403601  ...        -0.250551   \n",
              "4               -0.388922                -0.403601  ...        -0.250551   \n",
              "\n",
              "    CWE Flag Count   Average Packet Size   Avg Fwd Segment Size  \\\n",
              "0        -0.170677             -0.435933              -0.444479   \n",
              "1        -0.170677             -0.313250              -0.321843   \n",
              "2        -0.170677             -0.395038              -0.403601   \n",
              "3        -0.170677             -0.395038              -0.403601   \n",
              "4        -0.170677             -0.395038              -0.403601   \n",
              "\n",
              "    Avg Bwd Segment Size   Subflow Fwd Bytes  Init_Win_bytes_forward  \\\n",
              "0              -0.155984           -0.364184               -0.332582   \n",
              "1              -0.155984           -0.297153               -0.332582   \n",
              "2              -0.155984           -0.341841               -0.332582   \n",
              "3              -0.155984           -0.341841               -0.332582   \n",
              "4              -0.155984           -0.341841               -0.332582   \n",
              "\n",
              "    Init_Win_bytes_backward   Idle Std   Inbound  \n",
              "0                 -0.103805  -0.172275  0.411907  \n",
              "1                 -0.103805  -0.172275  0.411907  \n",
              "2                 -0.103805  -0.172275  0.411907  \n",
              "3                 -0.103805  -0.172275  0.411907  \n",
              "4                 -0.103805  -0.172275  0.411907  \n",
              "\n",
              "[5 rows x 36 columns]"
            ],
            "text/html": [
              "\n",
              "  <div id=\"df-66514c1f-3635-41a1-b2c7-177fafef7399\">\n",
              "    <div class=\"colab-df-container\">\n",
              "      <div>\n",
              "<style scoped>\n",
              "    .dataframe tbody tr th:only-of-type {\n",
              "        vertical-align: middle;\n",
              "    }\n",
              "\n",
              "    .dataframe tbody tr th {\n",
              "        vertical-align: top;\n",
              "    }\n",
              "\n",
              "    .dataframe thead th {\n",
              "        text-align: right;\n",
              "    }\n",
              "</style>\n",
              "<table border=\"1\" class=\"dataframe\">\n",
              "  <thead>\n",
              "    <tr style=\"text-align: right;\">\n",
              "      <th></th>\n",
              "      <th>Unnamed: 0</th>\n",
              "      <th>Source IP</th>\n",
              "      <th>Source Port</th>\n",
              "      <th>Destination IP</th>\n",
              "      <th>Destination Port</th>\n",
              "      <th>Protocol</th>\n",
              "      <th>Total Length of Fwd Packets</th>\n",
              "      <th>Fwd Packet Length Max</th>\n",
              "      <th>Fwd Packet Length Min</th>\n",
              "      <th>Fwd Packet Length Mean</th>\n",
              "      <th>...</th>\n",
              "      <th>URG Flag Count</th>\n",
              "      <th>CWE Flag Count</th>\n",
              "      <th>Average Packet Size</th>\n",
              "      <th>Avg Fwd Segment Size</th>\n",
              "      <th>Avg Bwd Segment Size</th>\n",
              "      <th>Subflow Fwd Bytes</th>\n",
              "      <th>Init_Win_bytes_forward</th>\n",
              "      <th>Init_Win_bytes_backward</th>\n",
              "      <th>Idle Std</th>\n",
              "      <th>Inbound</th>\n",
              "    </tr>\n",
              "  </thead>\n",
              "  <tbody>\n",
              "    <tr>\n",
              "      <th>0</th>\n",
              "      <td>-1.732050</td>\n",
              "      <td>-0.113675</td>\n",
              "      <td>-1.085338</td>\n",
              "      <td>0.291053</td>\n",
              "      <td>-1.324661</td>\n",
              "      <td>0.532286</td>\n",
              "      <td>-0.364214</td>\n",
              "      <td>-0.475718</td>\n",
              "      <td>-0.429556</td>\n",
              "      <td>-0.444479</td>\n",
              "      <td>...</td>\n",
              "      <td>-0.250551</td>\n",
              "      <td>-0.170677</td>\n",
              "      <td>-0.435933</td>\n",
              "      <td>-0.444479</td>\n",
              "      <td>-0.155984</td>\n",
              "      <td>-0.364184</td>\n",
              "      <td>-0.332582</td>\n",
              "      <td>-0.103805</td>\n",
              "      <td>-0.172275</td>\n",
              "      <td>0.411907</td>\n",
              "    </tr>\n",
              "    <tr>\n",
              "      <th>1</th>\n",
              "      <td>-1.732049</td>\n",
              "      <td>-0.113675</td>\n",
              "      <td>-1.085298</td>\n",
              "      <td>0.291053</td>\n",
              "      <td>1.170338</td>\n",
              "      <td>0.532286</td>\n",
              "      <td>-0.297183</td>\n",
              "      <td>-0.355788</td>\n",
              "      <td>-0.307654</td>\n",
              "      <td>-0.321843</td>\n",
              "      <td>...</td>\n",
              "      <td>-0.250551</td>\n",
              "      <td>-0.170677</td>\n",
              "      <td>-0.313250</td>\n",
              "      <td>-0.321843</td>\n",
              "      <td>-0.155984</td>\n",
              "      <td>-0.297153</td>\n",
              "      <td>-0.332582</td>\n",
              "      <td>-0.103805</td>\n",
              "      <td>-0.172275</td>\n",
              "      <td>0.411907</td>\n",
              "    </tr>\n",
              "    <tr>\n",
              "      <th>2</th>\n",
              "      <td>-1.732048</td>\n",
              "      <td>-0.113675</td>\n",
              "      <td>-1.094200</td>\n",
              "      <td>0.291053</td>\n",
              "      <td>0.526290</td>\n",
              "      <td>0.532286</td>\n",
              "      <td>-0.341870</td>\n",
              "      <td>-0.435742</td>\n",
              "      <td>-0.388922</td>\n",
              "      <td>-0.403601</td>\n",
              "      <td>...</td>\n",
              "      <td>-0.250551</td>\n",
              "      <td>-0.170677</td>\n",
              "      <td>-0.395038</td>\n",
              "      <td>-0.403601</td>\n",
              "      <td>-0.155984</td>\n",
              "      <td>-0.341841</td>\n",
              "      <td>-0.332582</td>\n",
              "      <td>-0.103805</td>\n",
              "      <td>-0.172275</td>\n",
              "      <td>0.411907</td>\n",
              "    </tr>\n",
              "    <tr>\n",
              "      <th>3</th>\n",
              "      <td>-1.732047</td>\n",
              "      <td>-0.113675</td>\n",
              "      <td>-1.085259</td>\n",
              "      <td>0.291053</td>\n",
              "      <td>1.195441</td>\n",
              "      <td>0.532286</td>\n",
              "      <td>-0.341870</td>\n",
              "      <td>-0.435742</td>\n",
              "      <td>-0.388922</td>\n",
              "      <td>-0.403601</td>\n",
              "      <td>...</td>\n",
              "      <td>-0.250551</td>\n",
              "      <td>-0.170677</td>\n",
              "      <td>-0.395038</td>\n",
              "      <td>-0.403601</td>\n",
              "      <td>-0.155984</td>\n",
              "      <td>-0.341841</td>\n",
              "      <td>-0.332582</td>\n",
              "      <td>-0.103805</td>\n",
              "      <td>-0.172275</td>\n",
              "      <td>0.411907</td>\n",
              "    </tr>\n",
              "    <tr>\n",
              "      <th>4</th>\n",
              "      <td>-1.732045</td>\n",
              "      <td>-0.113675</td>\n",
              "      <td>-1.085219</td>\n",
              "      <td>0.291053</td>\n",
              "      <td>0.525947</td>\n",
              "      <td>0.532286</td>\n",
              "      <td>-0.341870</td>\n",
              "      <td>-0.435742</td>\n",
              "      <td>-0.388922</td>\n",
              "      <td>-0.403601</td>\n",
              "      <td>...</td>\n",
              "      <td>-0.250551</td>\n",
              "      <td>-0.170677</td>\n",
              "      <td>-0.395038</td>\n",
              "      <td>-0.403601</td>\n",
              "      <td>-0.155984</td>\n",
              "      <td>-0.341841</td>\n",
              "      <td>-0.332582</td>\n",
              "      <td>-0.103805</td>\n",
              "      <td>-0.172275</td>\n",
              "      <td>0.411907</td>\n",
              "    </tr>\n",
              "  </tbody>\n",
              "</table>\n",
              "<p>5 rows × 36 columns</p>\n",
              "</div>\n",
              "      <button class=\"colab-df-convert\" onclick=\"convertToInteractive('df-66514c1f-3635-41a1-b2c7-177fafef7399')\"\n",
              "              title=\"Convert this dataframe to an interactive table.\"\n",
              "              style=\"display:none;\">\n",
              "        \n",
              "  <svg xmlns=\"http://www.w3.org/2000/svg\" height=\"24px\"viewBox=\"0 0 24 24\"\n",
              "       width=\"24px\">\n",
              "    <path d=\"M0 0h24v24H0V0z\" fill=\"none\"/>\n",
              "    <path d=\"M18.56 5.44l.94 2.06.94-2.06 2.06-.94-2.06-.94-.94-2.06-.94 2.06-2.06.94zm-11 1L8.5 8.5l.94-2.06 2.06-.94-2.06-.94L8.5 2.5l-.94 2.06-2.06.94zm10 10l.94 2.06.94-2.06 2.06-.94-2.06-.94-.94-2.06-.94 2.06-2.06.94z\"/><path d=\"M17.41 7.96l-1.37-1.37c-.4-.4-.92-.59-1.43-.59-.52 0-1.04.2-1.43.59L10.3 9.45l-7.72 7.72c-.78.78-.78 2.05 0 2.83L4 21.41c.39.39.9.59 1.41.59.51 0 1.02-.2 1.41-.59l7.78-7.78 2.81-2.81c.8-.78.8-2.07 0-2.86zM5.41 20L4 18.59l7.72-7.72 1.47 1.35L5.41 20z\"/>\n",
              "  </svg>\n",
              "      </button>\n",
              "      \n",
              "  <style>\n",
              "    .colab-df-container {\n",
              "      display:flex;\n",
              "      flex-wrap:wrap;\n",
              "      gap: 12px;\n",
              "    }\n",
              "\n",
              "    .colab-df-convert {\n",
              "      background-color: #E8F0FE;\n",
              "      border: none;\n",
              "      border-radius: 50%;\n",
              "      cursor: pointer;\n",
              "      display: none;\n",
              "      fill: #1967D2;\n",
              "      height: 32px;\n",
              "      padding: 0 0 0 0;\n",
              "      width: 32px;\n",
              "    }\n",
              "\n",
              "    .colab-df-convert:hover {\n",
              "      background-color: #E2EBFA;\n",
              "      box-shadow: 0px 1px 2px rgba(60, 64, 67, 0.3), 0px 1px 3px 1px rgba(60, 64, 67, 0.15);\n",
              "      fill: #174EA6;\n",
              "    }\n",
              "\n",
              "    [theme=dark] .colab-df-convert {\n",
              "      background-color: #3B4455;\n",
              "      fill: #D2E3FC;\n",
              "    }\n",
              "\n",
              "    [theme=dark] .colab-df-convert:hover {\n",
              "      background-color: #434B5C;\n",
              "      box-shadow: 0px 1px 3px 1px rgba(0, 0, 0, 0.15);\n",
              "      filter: drop-shadow(0px 1px 2px rgba(0, 0, 0, 0.3));\n",
              "      fill: #FFFFFF;\n",
              "    }\n",
              "  </style>\n",
              "\n",
              "      <script>\n",
              "        const buttonEl =\n",
              "          document.querySelector('#df-66514c1f-3635-41a1-b2c7-177fafef7399 button.colab-df-convert');\n",
              "        buttonEl.style.display =\n",
              "          google.colab.kernel.accessAllowed ? 'block' : 'none';\n",
              "\n",
              "        async function convertToInteractive(key) {\n",
              "          const element = document.querySelector('#df-66514c1f-3635-41a1-b2c7-177fafef7399');\n",
              "          const dataTable =\n",
              "            await google.colab.kernel.invokeFunction('convertToInteractive',\n",
              "                                                     [key], {});\n",
              "          if (!dataTable) return;\n",
              "\n",
              "          const docLinkHtml = 'Like what you see? Visit the ' +\n",
              "            '<a target=\"_blank\" href=https://colab.research.google.com/notebooks/data_table.ipynb>data table notebook</a>'\n",
              "            + ' to learn more about interactive tables.';\n",
              "          element.innerHTML = '';\n",
              "          dataTable['output_type'] = 'display_data';\n",
              "          await google.colab.output.renderOutput(dataTable, element);\n",
              "          const docLink = document.createElement('div');\n",
              "          docLink.innerHTML = docLinkHtml;\n",
              "          element.appendChild(docLink);\n",
              "        }\n",
              "      </script>\n",
              "    </div>\n",
              "  </div>\n",
              "  "
            ]
          },
          "metadata": {},
          "execution_count": 7
        }
      ]
    },
    {
      "cell_type": "code",
      "metadata": {
        "id": "dJTE1lD8YhDQ",
        "outputId": "3eaa9a82-0894-4ecd-a115-bc77a1816755",
        "colab": {
          "base_uri": "https://localhost:8080/"
        }
      },
      "source": [
        "#y = pd.read_csv(\"/content/drive/My Drive/dos_dataset/y.csv\")\n",
        "#y=y['Label']\n",
        "y.head()"
      ],
      "execution_count": null,
      "outputs": [
        {
          "output_type": "execute_result",
          "data": {
            "text/plain": [
              "   Label\n",
              "0      1\n",
              "1      1\n",
              "2      1\n",
              "3      1\n",
              "4      1"
            ],
            "text/html": [
              "\n",
              "  <div id=\"df-08be86a3-40d2-4fab-828a-d88745f726f3\">\n",
              "    <div class=\"colab-df-container\">\n",
              "      <div>\n",
              "<style scoped>\n",
              "    .dataframe tbody tr th:only-of-type {\n",
              "        vertical-align: middle;\n",
              "    }\n",
              "\n",
              "    .dataframe tbody tr th {\n",
              "        vertical-align: top;\n",
              "    }\n",
              "\n",
              "    .dataframe thead th {\n",
              "        text-align: right;\n",
              "    }\n",
              "</style>\n",
              "<table border=\"1\" class=\"dataframe\">\n",
              "  <thead>\n",
              "    <tr style=\"text-align: right;\">\n",
              "      <th></th>\n",
              "      <th>Label</th>\n",
              "    </tr>\n",
              "  </thead>\n",
              "  <tbody>\n",
              "    <tr>\n",
              "      <th>0</th>\n",
              "      <td>1</td>\n",
              "    </tr>\n",
              "    <tr>\n",
              "      <th>1</th>\n",
              "      <td>1</td>\n",
              "    </tr>\n",
              "    <tr>\n",
              "      <th>2</th>\n",
              "      <td>1</td>\n",
              "    </tr>\n",
              "    <tr>\n",
              "      <th>3</th>\n",
              "      <td>1</td>\n",
              "    </tr>\n",
              "    <tr>\n",
              "      <th>4</th>\n",
              "      <td>1</td>\n",
              "    </tr>\n",
              "  </tbody>\n",
              "</table>\n",
              "</div>\n",
              "      <button class=\"colab-df-convert\" onclick=\"convertToInteractive('df-08be86a3-40d2-4fab-828a-d88745f726f3')\"\n",
              "              title=\"Convert this dataframe to an interactive table.\"\n",
              "              style=\"display:none;\">\n",
              "        \n",
              "  <svg xmlns=\"http://www.w3.org/2000/svg\" height=\"24px\"viewBox=\"0 0 24 24\"\n",
              "       width=\"24px\">\n",
              "    <path d=\"M0 0h24v24H0V0z\" fill=\"none\"/>\n",
              "    <path d=\"M18.56 5.44l.94 2.06.94-2.06 2.06-.94-2.06-.94-.94-2.06-.94 2.06-2.06.94zm-11 1L8.5 8.5l.94-2.06 2.06-.94-2.06-.94L8.5 2.5l-.94 2.06-2.06.94zm10 10l.94 2.06.94-2.06 2.06-.94-2.06-.94-.94-2.06-.94 2.06-2.06.94z\"/><path d=\"M17.41 7.96l-1.37-1.37c-.4-.4-.92-.59-1.43-.59-.52 0-1.04.2-1.43.59L10.3 9.45l-7.72 7.72c-.78.78-.78 2.05 0 2.83L4 21.41c.39.39.9.59 1.41.59.51 0 1.02-.2 1.41-.59l7.78-7.78 2.81-2.81c.8-.78.8-2.07 0-2.86zM5.41 20L4 18.59l7.72-7.72 1.47 1.35L5.41 20z\"/>\n",
              "  </svg>\n",
              "      </button>\n",
              "      \n",
              "  <style>\n",
              "    .colab-df-container {\n",
              "      display:flex;\n",
              "      flex-wrap:wrap;\n",
              "      gap: 12px;\n",
              "    }\n",
              "\n",
              "    .colab-df-convert {\n",
              "      background-color: #E8F0FE;\n",
              "      border: none;\n",
              "      border-radius: 50%;\n",
              "      cursor: pointer;\n",
              "      display: none;\n",
              "      fill: #1967D2;\n",
              "      height: 32px;\n",
              "      padding: 0 0 0 0;\n",
              "      width: 32px;\n",
              "    }\n",
              "\n",
              "    .colab-df-convert:hover {\n",
              "      background-color: #E2EBFA;\n",
              "      box-shadow: 0px 1px 2px rgba(60, 64, 67, 0.3), 0px 1px 3px 1px rgba(60, 64, 67, 0.15);\n",
              "      fill: #174EA6;\n",
              "    }\n",
              "\n",
              "    [theme=dark] .colab-df-convert {\n",
              "      background-color: #3B4455;\n",
              "      fill: #D2E3FC;\n",
              "    }\n",
              "\n",
              "    [theme=dark] .colab-df-convert:hover {\n",
              "      background-color: #434B5C;\n",
              "      box-shadow: 0px 1px 3px 1px rgba(0, 0, 0, 0.15);\n",
              "      filter: drop-shadow(0px 1px 2px rgba(0, 0, 0, 0.3));\n",
              "      fill: #FFFFFF;\n",
              "    }\n",
              "  </style>\n",
              "\n",
              "      <script>\n",
              "        const buttonEl =\n",
              "          document.querySelector('#df-08be86a3-40d2-4fab-828a-d88745f726f3 button.colab-df-convert');\n",
              "        buttonEl.style.display =\n",
              "          google.colab.kernel.accessAllowed ? 'block' : 'none';\n",
              "\n",
              "        async function convertToInteractive(key) {\n",
              "          const element = document.querySelector('#df-08be86a3-40d2-4fab-828a-d88745f726f3');\n",
              "          const dataTable =\n",
              "            await google.colab.kernel.invokeFunction('convertToInteractive',\n",
              "                                                     [key], {});\n",
              "          if (!dataTable) return;\n",
              "\n",
              "          const docLinkHtml = 'Like what you see? Visit the ' +\n",
              "            '<a target=\"_blank\" href=https://colab.research.google.com/notebooks/data_table.ipynb>data table notebook</a>'\n",
              "            + ' to learn more about interactive tables.';\n",
              "          element.innerHTML = '';\n",
              "          dataTable['output_type'] = 'display_data';\n",
              "          await google.colab.output.renderOutput(dataTable, element);\n",
              "          const docLink = document.createElement('div');\n",
              "          docLink.innerHTML = docLinkHtml;\n",
              "          element.appendChild(docLink);\n",
              "        }\n",
              "      </script>\n",
              "    </div>\n",
              "  </div>\n",
              "  "
            ]
          },
          "metadata": {},
          "execution_count": 8
        }
      ]
    },
    {
      "cell_type": "code",
      "metadata": {
        "id": "XDBQEpsTX_3b",
        "outputId": "dbba60dd-9ae9-4e5d-b456-55781715f444",
        "colab": {
          "base_uri": "https://localhost:8080/"
        }
      },
      "source": [
        "from sklearn.model_selection import train_test_split\n",
        "X_train, X_test, y_train, y_test = train_test_split(normalized_df, y, test_size=0.3, random_state=0)\n",
        "y_train = np.array(y_train)\n",
        "\n",
        "y_train = np.array(y_train)\n",
        "y_test = np.array(y_test)\n",
        "X_train = np.array(X_train)\n",
        "X_test = np.array(X_test)\n",
        "X_train = np.reshape(X_train, (X_train.shape[0],X_train.shape[1]))\n",
        "X_test = np.reshape(X_test, (X_test.shape[0],X_test.shape[1]))\n",
        "\n",
        "print('xtrain={}, ytrain={}, xtest={}, ytest={}'.format(X_train.shape,y_train.shape,X_test.shape,y_test.shape))"
      ],
      "execution_count": null,
      "outputs": [
        {
          "output_type": "stream",
          "name": "stdout",
          "text": [
            "xtrain=(2145824, 36), ytrain=(2145824, 1), xtest=(919640, 36), ytest=(919640, 1)\n"
          ]
        }
      ]
    },
    {
      "cell_type": "markdown",
      "metadata": {
        "id": "a7ZM193PagA5"
      },
      "source": [
        "## XGBoost\n",
        "\n"
      ]
    },
    {
      "cell_type": "code",
      "metadata": {
        "id": "phVeKBGYamO-",
        "outputId": "26aa75ef-a1f0-4b11-8fdc-176b353dc7d1",
        "colab": {
          "base_uri": "https://localhost:8080/"
        }
      },
      "source": [
        "!pip install xgboost"
      ],
      "execution_count": null,
      "outputs": [
        {
          "output_type": "stream",
          "name": "stdout",
          "text": [
            "Looking in indexes: https://pypi.org/simple, https://us-python.pkg.dev/colab-wheels/public/simple/\n",
            "Requirement already satisfied: xgboost in /usr/local/lib/python3.10/dist-packages (1.7.5)\n",
            "Requirement already satisfied: numpy in /usr/local/lib/python3.10/dist-packages (from xgboost) (1.22.4)\n",
            "Requirement already satisfied: scipy in /usr/local/lib/python3.10/dist-packages (from xgboost) (1.10.1)\n"
          ]
        }
      ]
    },
    {
      "cell_type": "code",
      "metadata": {
        "id": "9ZE9XYK6AzKO",
        "colab": {
          "base_uri": "https://localhost:8080/",
          "height": 248
        },
        "outputId": "f88bcb7d-7b68-468a-c7d2-8b0c8018169c"
      },
      "source": [
        "from xgboost import XGBClassifier\n",
        "model = XGBClassifier()\n",
        "model.fit(X_train, y_train)\n",
        "\n",
        "#import pickle\n",
        "#pickle.dump(model, open(\"/content/drive/My Drive/dos_dataset/final_xgb.pickle.dat\", \"wb\"))"
      ],
      "execution_count": null,
      "outputs": [
        {
          "output_type": "execute_result",
          "data": {
            "text/plain": [
              "XGBClassifier(base_score=None, booster=None, callbacks=None,\n",
              "              colsample_bylevel=None, colsample_bynode=None,\n",
              "              colsample_bytree=None, early_stopping_rounds=None,\n",
              "              enable_categorical=False, eval_metric=None, feature_types=None,\n",
              "              gamma=None, gpu_id=None, grow_policy=None, importance_type=None,\n",
              "              interaction_constraints=None, learning_rate=None, max_bin=None,\n",
              "              max_cat_threshold=None, max_cat_to_onehot=None,\n",
              "              max_delta_step=None, max_depth=None, max_leaves=None,\n",
              "              min_child_weight=None, missing=nan, monotone_constraints=None,\n",
              "              n_estimators=100, n_jobs=None, num_parallel_tree=None,\n",
              "              objective='multi:softprob', predictor=None, ...)"
            ],
            "text/html": [
              "<style>#sk-container-id-4 {color: black;background-color: white;}#sk-container-id-4 pre{padding: 0;}#sk-container-id-4 div.sk-toggleable {background-color: white;}#sk-container-id-4 label.sk-toggleable__label {cursor: pointer;display: block;width: 100%;margin-bottom: 0;padding: 0.3em;box-sizing: border-box;text-align: center;}#sk-container-id-4 label.sk-toggleable__label-arrow:before {content: \"▸\";float: left;margin-right: 0.25em;color: #696969;}#sk-container-id-4 label.sk-toggleable__label-arrow:hover:before {color: black;}#sk-container-id-4 div.sk-estimator:hover label.sk-toggleable__label-arrow:before {color: black;}#sk-container-id-4 div.sk-toggleable__content {max-height: 0;max-width: 0;overflow: hidden;text-align: left;background-color: #f0f8ff;}#sk-container-id-4 div.sk-toggleable__content pre {margin: 0.2em;color: black;border-radius: 0.25em;background-color: #f0f8ff;}#sk-container-id-4 input.sk-toggleable__control:checked~div.sk-toggleable__content {max-height: 200px;max-width: 100%;overflow: auto;}#sk-container-id-4 input.sk-toggleable__control:checked~label.sk-toggleable__label-arrow:before {content: \"▾\";}#sk-container-id-4 div.sk-estimator input.sk-toggleable__control:checked~label.sk-toggleable__label {background-color: #d4ebff;}#sk-container-id-4 div.sk-label input.sk-toggleable__control:checked~label.sk-toggleable__label {background-color: #d4ebff;}#sk-container-id-4 input.sk-hidden--visually {border: 0;clip: rect(1px 1px 1px 1px);clip: rect(1px, 1px, 1px, 1px);height: 1px;margin: -1px;overflow: hidden;padding: 0;position: absolute;width: 1px;}#sk-container-id-4 div.sk-estimator {font-family: monospace;background-color: #f0f8ff;border: 1px dotted black;border-radius: 0.25em;box-sizing: border-box;margin-bottom: 0.5em;}#sk-container-id-4 div.sk-estimator:hover {background-color: #d4ebff;}#sk-container-id-4 div.sk-parallel-item::after {content: \"\";width: 100%;border-bottom: 1px solid gray;flex-grow: 1;}#sk-container-id-4 div.sk-label:hover label.sk-toggleable__label {background-color: #d4ebff;}#sk-container-id-4 div.sk-serial::before {content: \"\";position: absolute;border-left: 1px solid gray;box-sizing: border-box;top: 0;bottom: 0;left: 50%;z-index: 0;}#sk-container-id-4 div.sk-serial {display: flex;flex-direction: column;align-items: center;background-color: white;padding-right: 0.2em;padding-left: 0.2em;position: relative;}#sk-container-id-4 div.sk-item {position: relative;z-index: 1;}#sk-container-id-4 div.sk-parallel {display: flex;align-items: stretch;justify-content: center;background-color: white;position: relative;}#sk-container-id-4 div.sk-item::before, #sk-container-id-4 div.sk-parallel-item::before {content: \"\";position: absolute;border-left: 1px solid gray;box-sizing: border-box;top: 0;bottom: 0;left: 50%;z-index: -1;}#sk-container-id-4 div.sk-parallel-item {display: flex;flex-direction: column;z-index: 1;position: relative;background-color: white;}#sk-container-id-4 div.sk-parallel-item:first-child::after {align-self: flex-end;width: 50%;}#sk-container-id-4 div.sk-parallel-item:last-child::after {align-self: flex-start;width: 50%;}#sk-container-id-4 div.sk-parallel-item:only-child::after {width: 0;}#sk-container-id-4 div.sk-dashed-wrapped {border: 1px dashed gray;margin: 0 0.4em 0.5em 0.4em;box-sizing: border-box;padding-bottom: 0.4em;background-color: white;}#sk-container-id-4 div.sk-label label {font-family: monospace;font-weight: bold;display: inline-block;line-height: 1.2em;}#sk-container-id-4 div.sk-label-container {text-align: center;}#sk-container-id-4 div.sk-container {/* jupyter's `normalize.less` sets `[hidden] { display: none; }` but bootstrap.min.css set `[hidden] { display: none !important; }` so we also need the `!important` here to be able to override the default hidden behavior on the sphinx rendered scikit-learn.org. See: https://github.com/scikit-learn/scikit-learn/issues/21755 */display: inline-block !important;position: relative;}#sk-container-id-4 div.sk-text-repr-fallback {display: none;}</style><div id=\"sk-container-id-4\" class=\"sk-top-container\"><div class=\"sk-text-repr-fallback\"><pre>XGBClassifier(base_score=None, booster=None, callbacks=None,\n",
              "              colsample_bylevel=None, colsample_bynode=None,\n",
              "              colsample_bytree=None, early_stopping_rounds=None,\n",
              "              enable_categorical=False, eval_metric=None, feature_types=None,\n",
              "              gamma=None, gpu_id=None, grow_policy=None, importance_type=None,\n",
              "              interaction_constraints=None, learning_rate=None, max_bin=None,\n",
              "              max_cat_threshold=None, max_cat_to_onehot=None,\n",
              "              max_delta_step=None, max_depth=None, max_leaves=None,\n",
              "              min_child_weight=None, missing=nan, monotone_constraints=None,\n",
              "              n_estimators=100, n_jobs=None, num_parallel_tree=None,\n",
              "              objective=&#x27;multi:softprob&#x27;, predictor=None, ...)</pre><b>In a Jupyter environment, please rerun this cell to show the HTML representation or trust the notebook. <br />On GitHub, the HTML representation is unable to render, please try loading this page with nbviewer.org.</b></div><div class=\"sk-container\" hidden><div class=\"sk-item\"><div class=\"sk-estimator sk-toggleable\"><input class=\"sk-toggleable__control sk-hidden--visually\" id=\"sk-estimator-id-4\" type=\"checkbox\" checked><label for=\"sk-estimator-id-4\" class=\"sk-toggleable__label sk-toggleable__label-arrow\">XGBClassifier</label><div class=\"sk-toggleable__content\"><pre>XGBClassifier(base_score=None, booster=None, callbacks=None,\n",
              "              colsample_bylevel=None, colsample_bynode=None,\n",
              "              colsample_bytree=None, early_stopping_rounds=None,\n",
              "              enable_categorical=False, eval_metric=None, feature_types=None,\n",
              "              gamma=None, gpu_id=None, grow_policy=None, importance_type=None,\n",
              "              interaction_constraints=None, learning_rate=None, max_bin=None,\n",
              "              max_cat_threshold=None, max_cat_to_onehot=None,\n",
              "              max_delta_step=None, max_depth=None, max_leaves=None,\n",
              "              min_child_weight=None, missing=nan, monotone_constraints=None,\n",
              "              n_estimators=100, n_jobs=None, num_parallel_tree=None,\n",
              "              objective=&#x27;multi:softprob&#x27;, predictor=None, ...)</pre></div></div></div></div></div>"
            ]
          },
          "metadata": {},
          "execution_count": 21
        }
      ]
    },
    {
      "cell_type": "code",
      "metadata": {
        "id": "tVRI3zWqGJD1"
      },
      "source": [
        "y_pred=model.predict(X_test)"
      ],
      "execution_count": null,
      "outputs": []
    },
    {
      "cell_type": "code",
      "metadata": {
        "id": "8RrZdXa8Fz2C",
        "colab": {
          "base_uri": "https://localhost:8080/"
        },
        "outputId": "0cfa76f1-1636-487f-bf47-31d3dc837f78"
      },
      "source": [
        "y_train.shape"
      ],
      "execution_count": null,
      "outputs": [
        {
          "output_type": "execute_result",
          "data": {
            "text/plain": [
              "(2145824, 1)"
            ]
          },
          "metadata": {},
          "execution_count": 23
        }
      ]
    },
    {
      "cell_type": "code",
      "metadata": {
        "id": "854hNxDbao_c",
        "colab": {
          "base_uri": "https://localhost:8080/"
        },
        "outputId": "668bbc2f-cf03-4b0a-b99e-2693888927a6"
      },
      "source": [
        "from sklearn import metrics\n",
        "from sklearn.metrics import f1_score\n",
        "print('XGBoost Classifier')\n",
        "\n",
        "print('Accuracy = ', metrics.accuracy_score(y_test, y_pred)*100)\n",
        "\n",
        "print(\"Confusion Matrix =\\n\", metrics.confusion_matrix(y_test, y_pred, labels=None,\n",
        "                                              sample_weight=None))\n",
        "print(\"Recall =\", metrics.recall_score(y_test, y_pred, labels=None,\n",
        "                                             pos_label=1, average='weighted',\n",
        "                                             sample_weight=None))\n",
        "print(\"Classification Report =\\n\", metrics.classification_report(y_test, y_pred,\n",
        "                                                                 labels=None,\n",
        "                                                                 target_names=None,\n",
        "                                                                 sample_weight=None,\n",
        "                                                                 digits=2,\n",
        "                                                                 output_dict=False))\n",
        "\n",
        "print(\"F1 Score = \",f1_score(y_test, y_pred, average='macro'))"
      ],
      "execution_count": null,
      "outputs": [
        {
          "output_type": "stream",
          "name": "stdout",
          "text": [
            "XGBoost Classifier\n",
            "Accuracy =  99.99934757078857\n",
            "Confusion Matrix =\n",
            " [[114685      0      0      0      0      0      0      0]\n",
            " [     0 114783      0      0      0      0      0      0]\n",
            " [     1      1 115199      0      0      0      0      0]\n",
            " [     0      0      0 114832      0      0      0      0]\n",
            " [     0      0      0      0 115167      0      0      0]\n",
            " [     0      0      0      0      0 114956      1      0]\n",
            " [     1      0      0      0      0      0 114916      0]\n",
            " [     0      0      0      0      0      1      1 115096]]\n",
            "Recall = 0.9999934757078857\n",
            "Classification Report =\n",
            "               precision    recall  f1-score   support\n",
            "\n",
            "           0       1.00      1.00      1.00    114685\n",
            "           1       1.00      1.00      1.00    114783\n",
            "           2       1.00      1.00      1.00    115201\n",
            "           3       1.00      1.00      1.00    114832\n",
            "           4       1.00      1.00      1.00    115167\n",
            "           5       1.00      1.00      1.00    114957\n",
            "           6       1.00      1.00      1.00    114917\n",
            "           7       1.00      1.00      1.00    115098\n",
            "\n",
            "    accuracy                           1.00    919640\n",
            "   macro avg       1.00      1.00      1.00    919640\n",
            "weighted avg       1.00      1.00      1.00    919640\n",
            "\n",
            "F1 Score =  0.9999934754858433\n"
          ]
        }
      ]
    },
    {
      "cell_type": "markdown",
      "metadata": {
        "id": "9yCiRzcoVfOt"
      },
      "source": [
        "## Logistic Regression"
      ]
    },
    {
      "cell_type": "code",
      "metadata": {
        "id": "r-05Ah4Wsyv4",
        "colab": {
          "base_uri": "https://localhost:8080/",
          "height": 276
        },
        "outputId": "8be5e5a9-f147-43fa-ccb5-8d6e353c3ee8"
      },
      "source": [
        "from sklearn.linear_model import LogisticRegression\n",
        "model = LogisticRegression()\n",
        "model.fit(X_train, y_train)"
      ],
      "execution_count": null,
      "outputs": [
        {
          "output_type": "stream",
          "name": "stderr",
          "text": [
            "/usr/local/lib/python3.10/dist-packages/sklearn/utils/validation.py:1143: DataConversionWarning: A column-vector y was passed when a 1d array was expected. Please change the shape of y to (n_samples, ), for example using ravel().\n",
            "  y = column_or_1d(y, warn=True)\n",
            "/usr/local/lib/python3.10/dist-packages/sklearn/linear_model/_logistic.py:458: ConvergenceWarning: lbfgs failed to converge (status=1):\n",
            "STOP: TOTAL NO. of ITERATIONS REACHED LIMIT.\n",
            "\n",
            "Increase the number of iterations (max_iter) or scale the data as shown in:\n",
            "    https://scikit-learn.org/stable/modules/preprocessing.html\n",
            "Please also refer to the documentation for alternative solver options:\n",
            "    https://scikit-learn.org/stable/modules/linear_model.html#logistic-regression\n",
            "  n_iter_i = _check_optimize_result(\n"
          ]
        },
        {
          "output_type": "execute_result",
          "data": {
            "text/plain": [
              "LogisticRegression()"
            ],
            "text/html": [
              "<style>#sk-container-id-2 {color: black;background-color: white;}#sk-container-id-2 pre{padding: 0;}#sk-container-id-2 div.sk-toggleable {background-color: white;}#sk-container-id-2 label.sk-toggleable__label {cursor: pointer;display: block;width: 100%;margin-bottom: 0;padding: 0.3em;box-sizing: border-box;text-align: center;}#sk-container-id-2 label.sk-toggleable__label-arrow:before {content: \"▸\";float: left;margin-right: 0.25em;color: #696969;}#sk-container-id-2 label.sk-toggleable__label-arrow:hover:before {color: black;}#sk-container-id-2 div.sk-estimator:hover label.sk-toggleable__label-arrow:before {color: black;}#sk-container-id-2 div.sk-toggleable__content {max-height: 0;max-width: 0;overflow: hidden;text-align: left;background-color: #f0f8ff;}#sk-container-id-2 div.sk-toggleable__content pre {margin: 0.2em;color: black;border-radius: 0.25em;background-color: #f0f8ff;}#sk-container-id-2 input.sk-toggleable__control:checked~div.sk-toggleable__content {max-height: 200px;max-width: 100%;overflow: auto;}#sk-container-id-2 input.sk-toggleable__control:checked~label.sk-toggleable__label-arrow:before {content: \"▾\";}#sk-container-id-2 div.sk-estimator input.sk-toggleable__control:checked~label.sk-toggleable__label {background-color: #d4ebff;}#sk-container-id-2 div.sk-label input.sk-toggleable__control:checked~label.sk-toggleable__label {background-color: #d4ebff;}#sk-container-id-2 input.sk-hidden--visually {border: 0;clip: rect(1px 1px 1px 1px);clip: rect(1px, 1px, 1px, 1px);height: 1px;margin: -1px;overflow: hidden;padding: 0;position: absolute;width: 1px;}#sk-container-id-2 div.sk-estimator {font-family: monospace;background-color: #f0f8ff;border: 1px dotted black;border-radius: 0.25em;box-sizing: border-box;margin-bottom: 0.5em;}#sk-container-id-2 div.sk-estimator:hover {background-color: #d4ebff;}#sk-container-id-2 div.sk-parallel-item::after {content: \"\";width: 100%;border-bottom: 1px solid gray;flex-grow: 1;}#sk-container-id-2 div.sk-label:hover label.sk-toggleable__label {background-color: #d4ebff;}#sk-container-id-2 div.sk-serial::before {content: \"\";position: absolute;border-left: 1px solid gray;box-sizing: border-box;top: 0;bottom: 0;left: 50%;z-index: 0;}#sk-container-id-2 div.sk-serial {display: flex;flex-direction: column;align-items: center;background-color: white;padding-right: 0.2em;padding-left: 0.2em;position: relative;}#sk-container-id-2 div.sk-item {position: relative;z-index: 1;}#sk-container-id-2 div.sk-parallel {display: flex;align-items: stretch;justify-content: center;background-color: white;position: relative;}#sk-container-id-2 div.sk-item::before, #sk-container-id-2 div.sk-parallel-item::before {content: \"\";position: absolute;border-left: 1px solid gray;box-sizing: border-box;top: 0;bottom: 0;left: 50%;z-index: -1;}#sk-container-id-2 div.sk-parallel-item {display: flex;flex-direction: column;z-index: 1;position: relative;background-color: white;}#sk-container-id-2 div.sk-parallel-item:first-child::after {align-self: flex-end;width: 50%;}#sk-container-id-2 div.sk-parallel-item:last-child::after {align-self: flex-start;width: 50%;}#sk-container-id-2 div.sk-parallel-item:only-child::after {width: 0;}#sk-container-id-2 div.sk-dashed-wrapped {border: 1px dashed gray;margin: 0 0.4em 0.5em 0.4em;box-sizing: border-box;padding-bottom: 0.4em;background-color: white;}#sk-container-id-2 div.sk-label label {font-family: monospace;font-weight: bold;display: inline-block;line-height: 1.2em;}#sk-container-id-2 div.sk-label-container {text-align: center;}#sk-container-id-2 div.sk-container {/* jupyter's `normalize.less` sets `[hidden] { display: none; }` but bootstrap.min.css set `[hidden] { display: none !important; }` so we also need the `!important` here to be able to override the default hidden behavior on the sphinx rendered scikit-learn.org. See: https://github.com/scikit-learn/scikit-learn/issues/21755 */display: inline-block !important;position: relative;}#sk-container-id-2 div.sk-text-repr-fallback {display: none;}</style><div id=\"sk-container-id-2\" class=\"sk-top-container\"><div class=\"sk-text-repr-fallback\"><pre>LogisticRegression()</pre><b>In a Jupyter environment, please rerun this cell to show the HTML representation or trust the notebook. <br />On GitHub, the HTML representation is unable to render, please try loading this page with nbviewer.org.</b></div><div class=\"sk-container\" hidden><div class=\"sk-item\"><div class=\"sk-estimator sk-toggleable\"><input class=\"sk-toggleable__control sk-hidden--visually\" id=\"sk-estimator-id-2\" type=\"checkbox\" checked><label for=\"sk-estimator-id-2\" class=\"sk-toggleable__label sk-toggleable__label-arrow\">LogisticRegression</label><div class=\"sk-toggleable__content\"><pre>LogisticRegression()</pre></div></div></div></div></div>"
            ]
          },
          "metadata": {},
          "execution_count": 12
        }
      ]
    },
    {
      "cell_type": "code",
      "metadata": {
        "id": "esLReADOtOkp"
      },
      "source": [
        "y_pred = model.predict(X_test)"
      ],
      "execution_count": null,
      "outputs": []
    },
    {
      "cell_type": "code",
      "metadata": {
        "id": "UiK9FSWKs7b9",
        "colab": {
          "base_uri": "https://localhost:8080/"
        },
        "outputId": "8f77ce62-612c-42dd-a281-ba115ae0a6c1"
      },
      "source": [
        "from sklearn import metrics\n",
        "from sklearn.metrics import f1_score\n",
        "\n",
        "print('Logistic Regression')\n",
        "\n",
        "print('Accuracy = ', metrics.accuracy_score(y_test,y_pred)*100)\n",
        "print(\"Confusion Matrix =\\n\", metrics.confusion_matrix(y_test, y_pred, labels=None,\n",
        "                                              sample_weight=None))\n",
        "print(\"Recall =\", metrics.recall_score(y_test, y_pred, labels=None,\n",
        "                                             pos_label=1, average='weighted',\n",
        "                                             sample_weight=None))\n",
        "print(\"Classification Report =\\n\", metrics.classification_report(y_test, y_pred,\n",
        "                                                                 labels=None,\n",
        "                                                                 target_names=None,\n",
        "                                                                 sample_weight=None,\n",
        "                                                                  digits=2,\n",
        "                                                                 output_dict=False))\n",
        "print(\"F1 Score = \",f1_score(y_test, y_pred, average='macro'))"
      ],
      "execution_count": null,
      "outputs": [
        {
          "output_type": "stream",
          "name": "stdout",
          "text": [
            "Logistic Regression\n",
            "Accuracy =  97.54588752120395\n",
            "Confusion Matrix =\n",
            " [[114074     62      7      0    117    390     28      7]\n",
            " [     2 114135      2     17    627      0      0      0]\n",
            " [   185      8 114788    107     17     63     21     12]\n",
            " [    29    394    374 104609    125     15   9225     61]\n",
            " [    99    648     92    328 113701    168     37     94]\n",
            " [    15      0     24     19      0 114769      6    124]\n",
            " [    13      0      0   3703     43     15 107640   3503]\n",
            " [    30      0      0    545    226    361    581 113355]]\n",
            "Recall = 0.9754588752120394\n",
            "Classification Report =\n",
            "               precision    recall  f1-score   support\n",
            "\n",
            "           0       1.00      0.99      1.00    114685\n",
            "           1       0.99      0.99      0.99    114783\n",
            "           2       1.00      1.00      1.00    115201\n",
            "           3       0.96      0.91      0.93    114832\n",
            "           4       0.99      0.99      0.99    115167\n",
            "           5       0.99      1.00      0.99    114957\n",
            "           6       0.92      0.94      0.93    114917\n",
            "           7       0.97      0.98      0.98    115098\n",
            "\n",
            "    accuracy                           0.98    919640\n",
            "   macro avg       0.98      0.98      0.98    919640\n",
            "weighted avg       0.98      0.98      0.98    919640\n",
            "\n",
            "F1 Score =  0.975386110916679\n"
          ]
        }
      ]
    },
    {
      "cell_type": "markdown",
      "metadata": {
        "id": "sYNdwILCV_tA"
      },
      "source": [
        "## Decision Tree"
      ]
    },
    {
      "cell_type": "code",
      "metadata": {
        "colab": {
          "base_uri": "https://localhost:8080/",
          "height": 74
        },
        "outputId": "e640a398-f1d4-4cf1-86b1-762bc2716966",
        "id": "gVN22MukV_tJ"
      },
      "source": [
        "from sklearn.tree import DecisionTreeClassifier\n",
        "model = DecisionTreeClassifier()\n",
        "model.fit(X_train, y_train)"
      ],
      "execution_count": null,
      "outputs": [
        {
          "output_type": "execute_result",
          "data": {
            "text/plain": [
              "DecisionTreeClassifier()"
            ],
            "text/html": [
              "<style>#sk-container-id-3 {color: black;background-color: white;}#sk-container-id-3 pre{padding: 0;}#sk-container-id-3 div.sk-toggleable {background-color: white;}#sk-container-id-3 label.sk-toggleable__label {cursor: pointer;display: block;width: 100%;margin-bottom: 0;padding: 0.3em;box-sizing: border-box;text-align: center;}#sk-container-id-3 label.sk-toggleable__label-arrow:before {content: \"▸\";float: left;margin-right: 0.25em;color: #696969;}#sk-container-id-3 label.sk-toggleable__label-arrow:hover:before {color: black;}#sk-container-id-3 div.sk-estimator:hover label.sk-toggleable__label-arrow:before {color: black;}#sk-container-id-3 div.sk-toggleable__content {max-height: 0;max-width: 0;overflow: hidden;text-align: left;background-color: #f0f8ff;}#sk-container-id-3 div.sk-toggleable__content pre {margin: 0.2em;color: black;border-radius: 0.25em;background-color: #f0f8ff;}#sk-container-id-3 input.sk-toggleable__control:checked~div.sk-toggleable__content {max-height: 200px;max-width: 100%;overflow: auto;}#sk-container-id-3 input.sk-toggleable__control:checked~label.sk-toggleable__label-arrow:before {content: \"▾\";}#sk-container-id-3 div.sk-estimator input.sk-toggleable__control:checked~label.sk-toggleable__label {background-color: #d4ebff;}#sk-container-id-3 div.sk-label input.sk-toggleable__control:checked~label.sk-toggleable__label {background-color: #d4ebff;}#sk-container-id-3 input.sk-hidden--visually {border: 0;clip: rect(1px 1px 1px 1px);clip: rect(1px, 1px, 1px, 1px);height: 1px;margin: -1px;overflow: hidden;padding: 0;position: absolute;width: 1px;}#sk-container-id-3 div.sk-estimator {font-family: monospace;background-color: #f0f8ff;border: 1px dotted black;border-radius: 0.25em;box-sizing: border-box;margin-bottom: 0.5em;}#sk-container-id-3 div.sk-estimator:hover {background-color: #d4ebff;}#sk-container-id-3 div.sk-parallel-item::after {content: \"\";width: 100%;border-bottom: 1px solid gray;flex-grow: 1;}#sk-container-id-3 div.sk-label:hover label.sk-toggleable__label {background-color: #d4ebff;}#sk-container-id-3 div.sk-serial::before {content: \"\";position: absolute;border-left: 1px solid gray;box-sizing: border-box;top: 0;bottom: 0;left: 50%;z-index: 0;}#sk-container-id-3 div.sk-serial {display: flex;flex-direction: column;align-items: center;background-color: white;padding-right: 0.2em;padding-left: 0.2em;position: relative;}#sk-container-id-3 div.sk-item {position: relative;z-index: 1;}#sk-container-id-3 div.sk-parallel {display: flex;align-items: stretch;justify-content: center;background-color: white;position: relative;}#sk-container-id-3 div.sk-item::before, #sk-container-id-3 div.sk-parallel-item::before {content: \"\";position: absolute;border-left: 1px solid gray;box-sizing: border-box;top: 0;bottom: 0;left: 50%;z-index: -1;}#sk-container-id-3 div.sk-parallel-item {display: flex;flex-direction: column;z-index: 1;position: relative;background-color: white;}#sk-container-id-3 div.sk-parallel-item:first-child::after {align-self: flex-end;width: 50%;}#sk-container-id-3 div.sk-parallel-item:last-child::after {align-self: flex-start;width: 50%;}#sk-container-id-3 div.sk-parallel-item:only-child::after {width: 0;}#sk-container-id-3 div.sk-dashed-wrapped {border: 1px dashed gray;margin: 0 0.4em 0.5em 0.4em;box-sizing: border-box;padding-bottom: 0.4em;background-color: white;}#sk-container-id-3 div.sk-label label {font-family: monospace;font-weight: bold;display: inline-block;line-height: 1.2em;}#sk-container-id-3 div.sk-label-container {text-align: center;}#sk-container-id-3 div.sk-container {/* jupyter's `normalize.less` sets `[hidden] { display: none; }` but bootstrap.min.css set `[hidden] { display: none !important; }` so we also need the `!important` here to be able to override the default hidden behavior on the sphinx rendered scikit-learn.org. See: https://github.com/scikit-learn/scikit-learn/issues/21755 */display: inline-block !important;position: relative;}#sk-container-id-3 div.sk-text-repr-fallback {display: none;}</style><div id=\"sk-container-id-3\" class=\"sk-top-container\"><div class=\"sk-text-repr-fallback\"><pre>DecisionTreeClassifier()</pre><b>In a Jupyter environment, please rerun this cell to show the HTML representation or trust the notebook. <br />On GitHub, the HTML representation is unable to render, please try loading this page with nbviewer.org.</b></div><div class=\"sk-container\" hidden><div class=\"sk-item\"><div class=\"sk-estimator sk-toggleable\"><input class=\"sk-toggleable__control sk-hidden--visually\" id=\"sk-estimator-id-3\" type=\"checkbox\" checked><label for=\"sk-estimator-id-3\" class=\"sk-toggleable__label sk-toggleable__label-arrow\">DecisionTreeClassifier</label><div class=\"sk-toggleable__content\"><pre>DecisionTreeClassifier()</pre></div></div></div></div></div>"
            ]
          },
          "metadata": {},
          "execution_count": 15
        }
      ]
    },
    {
      "cell_type": "code",
      "metadata": {
        "id": "3NDqKtKjV_tK"
      },
      "source": [
        "y_pred = model.predict(X_test)"
      ],
      "execution_count": null,
      "outputs": []
    },
    {
      "cell_type": "code",
      "metadata": {
        "colab": {
          "base_uri": "https://localhost:8080/"
        },
        "outputId": "f25f9c48-5899-4052-91d3-98d62219153c",
        "id": "QAmOnkQHV_tK"
      },
      "source": [
        "from sklearn import metrics\n",
        "from sklearn.metrics import f1_score\n",
        "\n",
        "print('Decision Tree Classifier')\n",
        "\n",
        "print('Accuracy = ', metrics.accuracy_score(y_test,y_pred)*100)\n",
        "print(\"Confusion Matrix =\\n\", metrics.confusion_matrix(y_test, y_pred, labels=None,\n",
        "                                              sample_weight=None))\n",
        "print(\"Recall =\", metrics.recall_score(y_test, y_pred, labels=None,\n",
        "                                             pos_label=1, average='weighted',\n",
        "                                             sample_weight=None))\n",
        "print(\"Classification Report =\\n\", metrics.classification_report(y_test, y_pred,\n",
        "                                                                 labels=None,\n",
        "                                                                 target_names=None,\n",
        "                                                                 sample_weight=None,\n",
        "                                                                  digits=2,\n",
        "                                                                 output_dict=False))\n",
        "print(\"F1 Score = \",f1_score(y_test, y_pred, average='macro'))"
      ],
      "execution_count": null,
      "outputs": [
        {
          "output_type": "stream",
          "name": "stdout",
          "text": [
            "Decision Tree Classifier\n",
            "Accuracy =  99.9936931842895\n",
            "Confusion Matrix =\n",
            " [[114680      0      2      1      1      0      0      1]\n",
            " [     4 114774      3      0      2      0      0      0]\n",
            " [     2      0 115196      0      3      0      0      0]\n",
            " [     0      0      2 114827      2      0      1      0]\n",
            " [     2      0      0      2 115159      1      1      2]\n",
            " [     1      0      0      2      4 114947      2      1]\n",
            " [     1      0      1      2      3      0 114909      1]\n",
            " [     0      0      0      1      4      2      1 115090]]\n",
            "Recall = 0.999936931842895\n",
            "Classification Report =\n",
            "               precision    recall  f1-score   support\n",
            "\n",
            "           0       1.00      1.00      1.00    114685\n",
            "           1       1.00      1.00      1.00    114783\n",
            "           2       1.00      1.00      1.00    115201\n",
            "           3       1.00      1.00      1.00    114832\n",
            "           4       1.00      1.00      1.00    115167\n",
            "           5       1.00      1.00      1.00    114957\n",
            "           6       1.00      1.00      1.00    114917\n",
            "           7       1.00      1.00      1.00    115098\n",
            "\n",
            "    accuracy                           1.00    919640\n",
            "   macro avg       1.00      1.00      1.00    919640\n",
            "weighted avg       1.00      1.00      1.00    919640\n",
            "\n",
            "F1 Score =  0.9999369468928869\n"
          ]
        }
      ]
    }
  ]
}